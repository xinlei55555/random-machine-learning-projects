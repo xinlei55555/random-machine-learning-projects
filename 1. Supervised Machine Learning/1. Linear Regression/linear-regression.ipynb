{
 "cells": [
  {
   "attachments": {},
   "cell_type": "markdown",
   "metadata": {},
   "source": [
    "\n",
    "https://www.geeksforgeeks.org/linear-regression-using-tensorflow/\n",
    "https://www.machinelearningplus.com/deep-learning/linear-regression-tensorflow/\n",
    "\n",
    "check the one note documents and notes you took\n"
   ]
  },
  {
   "cell_type": "code",
   "execution_count": 48,
   "metadata": {},
   "outputs": [],
   "source": [
    "import tensorflow as tf\n",
    "#correctly install tensorflow to the environment\n",
    "# https://stackoverflow.com/questions/64859987/install-tensorflow-to-existing-anaconda-environment\n",
    "\n",
    "import numpy as np\n",
    "import matplotlib.pyplot as plt"
   ]
  },
  {
   "cell_type": "code",
   "execution_count": 49,
   "metadata": {},
   "outputs": [
    {
     "data": {
      "text/plain": [
       "<matplotlib.collections.PathCollection at 0x2a274a5a0a0>"
      ]
     },
     "execution_count": 49,
     "metadata": {},
     "output_type": "execute_result"
    },
    {
     "data": {
      "image/png": "[encoded data removed]",
      "text/plain": [
       "<Figure size 640x480 with 1 Axes>"
      ]
     },
     "metadata": {},
     "output_type": "display_data"
    }
   ],
   "source": [
    "# Learning rate\n",
    "learning_rate = 0.01\n",
    "\n",
    "# Number of loops for training through all your data to update the parameters\n",
    "training_epochs = 100\n",
    "\n",
    "# the training dataset\n",
    "x_train = np.linspace(0, 10, 100)\n",
    "y_train = x_train + np.random.normal(0,1,100)\n",
    "\n",
    "# plot of data\n",
    "plt.scatter(x_train, y_train)"
   ]
  },
  {
   "cell_type": "code",
   "execution_count": 50,
   "metadata": {},
   "outputs": [],
   "source": [
    "# declare weights\n",
    "    #these initial values could be anything!    \n",
    "weight = tf.Variable(0.)\n",
    "bias = tf.Variable(0.)"
   ]
  },
  {
   "cell_type": "code",
   "execution_count": 51,
   "metadata": {},
   "outputs": [],
   "source": [
    "# # x_train = np.asarray([1,2,3,4,5,52,41,124])\n",
    "# # y_train = np.asarray([1,2,3,31,12, 20, 10, 123])\n",
    "\n",
    "# training_epochs = 10\n",
    "\n",
    "\n",
    "# #~here, my loss kept increasing, meaning my learning_rate was too big!\n",
    "\n",
    "# learning_rate = 0.00001"
   ]
  },
  {
   "cell_type": "code",
   "execution_count": 52,
   "metadata": {},
   "outputs": [],
   "source": [
    "# Define linear regression expression y\n",
    "def linreg(x):\n",
    "    y = weight*x + bias\n",
    "    return y"
   ]
  },
  {
   "cell_type": "code",
   "execution_count": 53,
   "metadata": {},
   "outputs": [],
   "source": [
    "# Define loss function (MSE)\n",
    "def squared_error(y_pred, y_true):\n",
    "    return tf.reduce_mean(tf.square(y_pred - y_true))"
   ]
  },
  {
   "cell_type": "code",
   "execution_count": 54,
   "metadata": {},
   "outputs": [
    {
     "name": "stdout",
     "output_type": "stream",
     "text": [
      "Epoch count 0: Loss value: 33.762062072753906\n",
      "Epoch count 1: Loss value: 4.161116600036621\n",
      "Epoch count 2: Loss value: 1.2252557277679443\n",
      "Epoch count 3: Loss value: 0.9340670704841614\n",
      "Epoch count 4: Loss value: 0.9051803350448608\n",
      "Epoch count 5: Loss value: 0.9023090600967407\n",
      "Epoch count 6: Loss value: 0.9020178914070129\n",
      "Epoch count 7: Loss value: 0.9019829630851746\n",
      "Epoch count 8: Loss value: 0.9019731879234314\n",
      "Epoch count 9: Loss value: 0.9019660949707031\n",
      "Epoch count 10: Loss value: 0.9019594788551331\n",
      "Epoch count 11: Loss value: 0.9019528031349182\n",
      "Epoch count 12: Loss value: 0.9019461274147034\n",
      "Epoch count 13: Loss value: 0.9019396901130676\n",
      "Epoch count 14: Loss value: 0.9019333124160767\n",
      "Epoch count 15: Loss value: 0.9019268751144409\n",
      "Epoch count 16: Loss value: 0.9019206166267395\n",
      "Epoch count 17: Loss value: 0.9019142985343933\n",
      "Epoch count 18: Loss value: 0.9019081592559814\n",
      "Epoch count 19: Loss value: 0.9019020199775696\n",
      "Epoch count 20: Loss value: 0.9018959999084473\n",
      "Epoch count 21: Loss value: 0.901889979839325\n",
      "Epoch count 22: Loss value: 0.9018840193748474\n",
      "Epoch count 23: Loss value: 0.9018780589103699\n",
      "Epoch count 24: Loss value: 0.9018722772598267\n",
      "Epoch count 25: Loss value: 0.9018664360046387\n",
      "Epoch count 26: Loss value: 0.9018608331680298\n",
      "Epoch count 27: Loss value: 0.9018551111221313\n",
      "Epoch count 28: Loss value: 0.9018495082855225\n",
      "Epoch count 29: Loss value: 0.9018438458442688\n",
      "Epoch count 30: Loss value: 0.9018383622169495\n",
      "Epoch count 31: Loss value: 0.9018329381942749\n",
      "Epoch count 32: Loss value: 0.9018275737762451\n",
      "Epoch count 33: Loss value: 0.9018222093582153\n",
      "Epoch count 34: Loss value: 0.9018170237541199\n",
      "Epoch count 35: Loss value: 0.9018117785453796\n",
      "Epoch count 36: Loss value: 0.901806652545929\n",
      "Epoch count 37: Loss value: 0.9018014669418335\n",
      "Epoch count 38: Loss value: 0.9017963409423828\n",
      "Epoch count 39: Loss value: 0.9017913341522217\n",
      "Epoch count 40: Loss value: 0.9017863273620605\n",
      "Epoch count 41: Loss value: 0.9017813801765442\n",
      "Epoch count 42: Loss value: 0.9017766714096069\n",
      "Epoch count 43: Loss value: 0.9017717838287354\n",
      "Epoch count 44: Loss value: 0.9017668962478638\n",
      "Epoch count 45: Loss value: 0.9017621874809265\n",
      "Epoch count 46: Loss value: 0.9017574787139893\n",
      "Epoch count 47: Loss value: 0.9017529487609863\n",
      "Epoch count 48: Loss value: 0.9017482995986938\n",
      "Epoch count 49: Loss value: 0.9017438292503357\n",
      "Epoch count 50: Loss value: 0.9017392992973328\n",
      "Epoch count 51: Loss value: 0.9017347693443298\n",
      "Epoch count 52: Loss value: 0.9017303586006165\n",
      "Epoch count 53: Loss value: 0.9017260670661926\n",
      "Epoch count 54: Loss value: 0.901721715927124\n",
      "Epoch count 55: Loss value: 0.9017174243927002\n",
      "Epoch count 56: Loss value: 0.9017131328582764\n",
      "Epoch count 57: Loss value: 0.9017089605331421\n",
      "Epoch count 58: Loss value: 0.9017048478126526\n",
      "Epoch count 59: Loss value: 0.9017006158828735\n",
      "Epoch count 60: Loss value: 0.9016966819763184\n",
      "Epoch count 61: Loss value: 0.9016925096511841\n",
      "Epoch count 62: Loss value: 0.9016885161399841\n",
      "Epoch count 63: Loss value: 0.9016846418380737\n",
      "Epoch count 64: Loss value: 0.9016807079315186\n",
      "Epoch count 65: Loss value: 0.9016767740249634\n",
      "Epoch count 66: Loss value: 0.9016729593276978\n",
      "Epoch count 67: Loss value: 0.9016691446304321\n",
      "Epoch count 68: Loss value: 0.901665449142456\n",
      "Epoch count 69: Loss value: 0.9016616344451904\n",
      "Epoch count 70: Loss value: 0.9016579389572144\n",
      "Epoch count 71: Loss value: 0.9016543626785278\n",
      "Epoch count 72: Loss value: 0.9016506671905518\n",
      "Epoch count 73: Loss value: 0.9016472101211548\n",
      "Epoch count 74: Loss value: 0.901643693447113\n",
      "Epoch count 75: Loss value: 0.9016401171684265\n",
      "Epoch count 76: Loss value: 0.9016366004943848\n",
      "Epoch count 77: Loss value: 0.9016331434249878\n",
      "Epoch count 78: Loss value: 0.9016298055648804\n",
      "Epoch count 79: Loss value: 0.9016264081001282\n",
      "Epoch count 80: Loss value: 0.9016230702400208\n",
      "Epoch count 81: Loss value: 0.9016197323799133\n",
      "Epoch count 82: Loss value: 0.9016164541244507\n",
      "Epoch count 83: Loss value: 0.901613175868988\n",
      "Epoch count 84: Loss value: 0.9016100168228149\n",
      "Epoch count 85: Loss value: 0.9016069173812866\n",
      "Epoch count 86: Loss value: 0.9016036987304688\n",
      "Epoch count 87: Loss value: 0.9016004800796509\n",
      "Epoch count 88: Loss value: 0.9015976190567017\n",
      "Epoch count 89: Loss value: 0.9015944004058838\n",
      "Epoch count 90: Loss value: 0.901591420173645\n",
      "Epoch count 91: Loss value: 0.9015883803367615\n",
      "Epoch count 92: Loss value: 0.9015854001045227\n",
      "Epoch count 93: Loss value: 0.9015825390815735\n",
      "Epoch count 94: Loss value: 0.9015796184539795\n",
      "Epoch count 95: Loss value: 0.9015767574310303\n",
      "Epoch count 96: Loss value: 0.9015739560127258\n",
      "Epoch count 97: Loss value: 0.9015710353851318\n",
      "Epoch count 98: Loss value: 0.9015682935714722\n",
      "Epoch count 99: Loss value: 0.9015655517578125\n"
     ]
    }
   ],
   "source": [
    "# train model\n",
    "for epoch in range(training_epochs):\n",
    "\n",
    "    # Compute loss within Gradient Tape context\n",
    "    with tf.GradientTape() as tape:\n",
    "        #linreg is the function that I defined earlier, which is a line! (i could define another type of function, and it would work too!, such as sigmoid)\n",
    "        y_predicted = linreg(x_train)\n",
    "        \n",
    "        #I then calculate the loss\n",
    "        loss = squared_error(y_predicted, y_train)\n",
    "\n",
    "        # Get gradients from gradient descent\n",
    "        gradients = tape.gradient(loss, [weight,bias])\n",
    "\n",
    "        # Adjust weights\n",
    "            #basically, changes weights based on the gradient descent (which is the partial derivative of the given cost function)\n",
    "        weight.assign_sub(gradients[0]*learning_rate)\n",
    "        bias.assign_sub(gradients[1]*learning_rate)\n",
    "\n",
    "        # Print output\n",
    "        print(f\"Epoch count {epoch}: Loss value: {loss.numpy()}\")"
   ]
  },
  {
   "cell_type": "code",
   "execution_count": 55,
   "metadata": {},
   "outputs": [
    {
     "name": "stdout",
     "output_type": "stream",
     "text": [
      "0.97174525\n",
      "0.124455795\n"
     ]
    }
   ],
   "source": [
    "print(weight.numpy())\n",
    "print(bias.numpy())"
   ]
  },
  {
   "cell_type": "code",
   "execution_count": 56,
   "metadata": {},
   "outputs": [
    {
     "data": {
      "image/png": "[encoded data removed]",
      "text/plain": [
       "<Figure size 640x480 with 1 Axes>"
      ]
     },
     "metadata": {},
     "output_type": "display_data"
    }
   ],
   "source": [
    "# Plot the best fit line\n",
    "plt.scatter(x_train, y_train)\n",
    "plt.plot(x_train, linreg(x_train), 'r')\n",
    "plt.show()"
   ]
  }
 ],
 "metadata": {
  "kernelspec": {
   "display_name": "conda_env",
   "language": "python",
   "name": "python3"
  },
  "language_info": {
   "codemirror_mode": {
    "name": "ipython",
    "version": 3
   },
   "file_extension": ".py",
   "mimetype": "text/x-python",
   "name": "python",
   "nbconvert_exporter": "python",
   "pygments_lexer": "ipython3",
   "version": "3.8.16"
  },
  "orig_nbformat": 4
 },
 "nbformat": 4,
 "nbformat_minor": 2
}
