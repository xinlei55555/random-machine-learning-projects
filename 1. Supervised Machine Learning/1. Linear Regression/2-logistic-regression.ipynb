{
 "cells": [
  {
   "cell_type": "code",
   "execution_count": null,
   "metadata": {},
   "outputs": [],
   "source": [
    "import tensorflow as tf\n",
    "\n",
    "import numpy as np\n",
    "\n",
    "#not as interesting...\n",
    "#https://www.ibm.com/topics/logistic-regression\n",
    "#https://www.geeksforgeeks.org/ml-logistic-regression-using-tensorflow/"
   ]
  },
  {
   "attachments": {},
   "cell_type": "markdown",
   "metadata": {},
   "source": [
    "Loading the MNIST dataset\n"
   ]
  },
  {
   "attachments": {},
   "cell_type": "markdown",
   "metadata": {},
   "source": [
    "hyperparameters"
   ]
  },
  {
   "cell_type": "code",
   "execution_count": null,
   "metadata": {},
   "outputs": [],
   "source": [
    "# MNIST dataset parameters.\n",
    "\n",
    "num_classes = 10 # 0 to 9 digits\n",
    "\n",
    "num_features = 784 # 28*28\n",
    "\n",
    "# Training parameters.\n",
    "\n",
    "learning_rate = 0.01\n",
    "\n",
    "training_steps = 1000\n",
    "\n",
    "batch_size = 256\n",
    "\n",
    "display_step = 50"
   ]
  }
 ],
 "metadata": {
  "language_info": {
   "name": "python"
  },
  "orig_nbformat": 4
 },
 "nbformat": 4,
 "nbformat_minor": 2
}
